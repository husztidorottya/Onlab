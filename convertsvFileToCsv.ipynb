{
 "cells": [
  {
   "cell_type": "code",
   "execution_count": 4,
   "metadata": {
    "collapsed": false,
    "deletable": true,
    "editable": true,
    "scrolled": false
   },
   "outputs": [],
   "source": [
    "import sys\n",
    "import plotly.plotly as py\n",
    "from plotly.graph_objs import *\n",
    "\n",
    "# contains experiments data\n",
    "filename = 'log_experiment_.tsv'\n",
    "\n",
    "outputFilename = 'log_experiment.csv'\n",
    "\n",
    "# if it is a new experiment block\n",
    "previousEmptyLine = False\n",
    "\n",
    "# which parameter's line\n",
    "i = 0\n",
    "\n",
    "# storing parameter values\n",
    "embeddingDims = []\n",
    "LSTMs = []\n",
    "batches = []\n",
    "scores = []\n",
    "\n",
    "with open(filename) as inputFile:\n",
    "    for line in inputFile:\n",
    "        if line != '\\n' and previousEmptyLine:\n",
    "            lineData = line.strip('\\n').split('\\t')\n",
    "            if i == 0:\n",
    "                embeddingDims.append(lineData[1])\n",
    "            if i == 1:\n",
    "                LSTMs.append(lineData[1])\n",
    "            if i == 3:\n",
    "                batches.append(lineData[1])\n",
    "            if i == 4:\n",
    "                scoreLine = lineData[1].strip(']')\n",
    "                scoreLine = scoreLine.split(',')\n",
    "                scores.append(scoreLine[1])\n",
    "                \n",
    "            i += 1\n",
    "        if line == '\\n':\n",
    "            previousEmptyLine = True\n",
    "            i = 0\n",
    "\n",
    "with open(outputFilename,'w') as outputFile:\n",
    "    outputFile.write('embedding,LSTM,batch,score\\n')\n",
    "    for i in range(0,len(embeddingDims)):\n",
    "        outputFile.write('{0},{1},{2},{3}\\n'.format(embeddingDims[i],LSTMs[i],batches[i],scores[i]))\n"
   ]
  },
  {
   "cell_type": "code",
   "execution_count": null,
   "metadata": {
    "collapsed": true,
    "deletable": true,
    "editable": true
   },
   "outputs": [],
   "source": []
  }
 ],
 "metadata": {
  "kernelspec": {
   "display_name": "Python 3",
   "language": "python",
   "name": "python3"
  },
  "language_info": {
   "codemirror_mode": {
    "name": "ipython",
    "version": 3
   },
   "file_extension": ".py",
   "mimetype": "text/x-python",
   "name": "python",
   "nbconvert_exporter": "python",
   "pygments_lexer": "ipython3",
   "version": "3.5.2"
  }
 },
 "nbformat": 4,
 "nbformat_minor": 2
}
